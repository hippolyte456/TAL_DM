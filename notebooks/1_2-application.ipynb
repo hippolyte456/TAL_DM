{
 "cells": [
  {
   "cell_type": "markdown",
   "metadata": {},
   "source": [
    "# Classification de documents : prise en main des outils\n",
    "\n",
    "Le but de ce TP est de classer des documents textuels... Dans un premier temps, nous allons vérifier le bon fonctionnement des outils sur des données jouets puis appliquer les concepts sur des données réelles.\n",
    "\n",
    "\n",
    "## Conception de la chaine de traitement\n",
    "Pour rappel, une chaine de traitement de documents classique est composée des étapes suivantes:\n",
    "1. Lecture des données et importation\n",
    "    - Dans le cadre de nos TP, nous faisons l'hypothèse que le corpus tient en mémoire... Si ce n'est pas le cas, il faut alors ajouter des structures de données avec des buffers (*data-reader*), bien plus complexes à mettre en place.\n",
    "    - Le plus grand piège concerne l'encodage des données. Dans le TP... Pas (ou peu) de problème. Dans la vraie vie: il faut faire attention à toujours maitriser les formats d'entrée et de sortie.\n",
    "1. Traitement des données brutes paramétrique. Chaque traitement doit être activable ou desactivable + paramétrable si besoin.\n",
    "    - Enlever les informations *inutiles* : chiffre, ponctuations, majuscules, etc... <BR>\n",
    "    **L'utilité dépend de l'application!**\n",
    "    - Segmenter en mots (=*Tokenization*)\n",
    "    - Elimination des stop-words\n",
    "    - Stemming/lemmatisation (racinisation)\n",
    "    - Byte-pair encoding pour trouver les mots composés (e.g. Sorbonne Université, Ville de Paris, Premier Ministre, etc...)\n",
    "1. Traitement des données numériques\n",
    "    - Normalisation *term-frequency* / binarisation\n",
    "    - Normalisation *inverse document frequency*\n",
    "    - Elimination des mots rares, des mots trop fréquents\n",
    "    - Construction de critère de séparabilité pour éliminer des mots etc...\n",
    "1. Apprentissage d'un classifieur\n",
    "    - Choix du type de classifieur\n",
    "    - Réglage des paramètres du classifieur (régularisation, etc...)\n",
    "\n",
    "## Exploitation de la chaine de traitement\n",
    "\n",
    "On appelle cette étape la réalisation d'une campagne d'expériences: c'est le point clé que nous voulons traviller en TAL cette année.\n",
    "1. Il est impossible de tester toutes les combinaisons par rapport aux propositions ci-dessus... Il faut donc en éliminer un certain nombre.\n",
    "    - En discutant avec les experts métiers\n",
    "    - En faisant des tests préliminaires\n",
    "1. Après ce premier filtrage, il faut:\n",
    "    - Choisir une évaluation fiable et pas trop lente (validation croisée, leave-one-out, split apprentissage/test simple)\n",
    "    - Lancer des expériences en grand\n",
    "        - = *grid-search*\n",
    "        - parallèliser sur plusieurs machines\n",
    "        - savoir lancer sur un serveur et se déconnecter\n",
    "1. Collecter et analyser les résultats\n",
    "\n",
    "\n",
    "## Inférence\n",
    "\n",
    "L'inférence est ensuite très classique: la chaine de traitement optimale est apte à traiter de nouveaux documents\n",
    "\n",
    "# Etape 1: charger les données"
   ]
  },
  {
   "cell_type": "code",
   "execution_count": 93,
   "metadata": {},
   "outputs": [],
   "source": [
    "import numpy as np\n",
    "import matplotlib.pyplot as plt\n",
    "\n",
    "import codecs\n",
    "import re\n",
    "import os.path"
   ]
  },
  {
   "cell_type": "code",
   "execution_count": 94,
   "metadata": {},
   "outputs": [],
   "source": [
    "# Chargement des données:\n",
    "def load_pres(fname):\n",
    "    alltxts = []\n",
    "    alllabs = []\n",
    "    s=codecs.open(fname, 'r','utf-8') # pour régler le codage\n",
    "    while True:\n",
    "        txt = s.readline()\n",
    "        if(len(txt))<5:\n",
    "            break\n",
    "        #\n",
    "        lab = re.sub(r\"<[0-9]*:[0-9]*:(.)>.*\",\"\\\\1\",txt)\n",
    "        txt = re.sub(r\"<[0-9]*:[0-9]*:.>(.*)\",\"\\\\1\",txt)\n",
    "        if lab.count('M') >0:\n",
    "            alllabs.append(-1)\n",
    "        else: \n",
    "            alllabs.append(1)\n",
    "        alltxts.append(txt)\n",
    "    return alltxts,alllabs\n",
    "\n",
    "\n",
    "def load_movies(path2data): # 1 classe par répertoire\n",
    "    alltxts = [] # init vide\n",
    "    labs = []\n",
    "    cpt = 0\n",
    "    for cl in os.listdir(path2data): # parcours des fichiers d'un répertoire\n",
    "        for f in os.listdir(path2data+cl):\n",
    "            txt = open(path2data+cl+'/'+f).read()\n",
    "            alltxts.append(txt)\n",
    "            labs.append(cpt)\n",
    "        cpt+=1 # chg répertoire = cht classe\n",
    "        \n",
    "    return alltxts,labs"
   ]
  },
  {
   "cell_type": "code",
   "execution_count": 131,
   "metadata": {},
   "outputs": [],
   "source": [
    "# SELECTION DU DATASET\n",
    "def load_data(data):\n",
    "    #data = \"speeches\"\n",
    "    #data = \"movies\"\n",
    "    if data == \"speeches\":\n",
    "        fname = \"./ressources/AFDpresidentutf8/corpus.tache1.learn.utf8\"\n",
    "        alltxts,alllabs = load_pres(fname)\n",
    "        # print(len(alltxts),len(alllabs))\n",
    "        # print(alltxts[0])\n",
    "        # print(alllabs[0])\n",
    "\n",
    "    if data == \"movies\":\n",
    "        path = \"./ressources/movies/movies1000/\"\n",
    "        alltxts,alllabs = load_movies(path)\n",
    "        # print(len(alltxts),len(alllabs))\n",
    "        # print(alltxts[-1])\n",
    "        # print(alllabs[-1])\n",
    "    return alltxts,alllabs\n"
   ]
  },
  {
   "cell_type": "markdown",
   "metadata": {},
   "source": [
    "# Transformation paramétrique du texte\n",
    "\n",
    "Vous devez tester, par exemple, les cas suivants:\n",
    "- transformation en minuscule ou pas\n",
    "- suppression de la ponctuation\n",
    "- transformation des mots entièrement en majuscule en marqueurs spécifiques\n",
    "- suppression des chiffres ou pas\n",
    "- conservation d'une partie du texte seulement (seulement la première ligne = titre, seulement la dernière ligne = résumé, ...)\n",
    "- stemming\n",
    "- ...\n",
    "\n",
    "\n",
    "Vérifier systématiquement sur un exemple ou deux le bon fonctionnement des méthodes sur deux documents (au moins un de chaque classe)."
   ]
  },
  {
   "cell_type": "code",
   "execution_count": 153,
   "metadata": {},
   "outputs": [
    {
     "name": "stderr",
     "output_type": "stream",
     "text": [
      "[nltk_data] Downloading package stopwords to /home/hippo/nltk_data...\n",
      "[nltk_data]   Package stopwords is already up-to-date!\n"
     ]
    }
   ],
   "source": [
    "#textes = ['Je teste,??§! mes 4 fonctions ', 'boulou boulou CCC 458 ejf ']\n",
    "import re\n",
    "import unicodedata\n",
    "import re\n",
    "from copy import copy\n",
    "import nltk\n",
    "nltk.download('stopwords')\n",
    "from nltk.corpus import stopwords\n",
    "from sklearn.feature_extraction.text import CountVectorizer\n",
    "\n",
    "\n",
    "def make_preprocess(corpus,param_preprocess):\n",
    "    Newcorpus = copy(corpus)\n",
    "    for i,text in enumerate(Newcorpus):\n",
    "        text = unicodedata.normalize('NFD', text).encode('ascii', 'ignore').decode(\"utf-8\")\n",
    "        if param_preprocess['lower']:\n",
    "            text = text.lower()\n",
    "        if param_preprocess['rem_punctuation']:\n",
    "            text = re.sub(r'[^\\w\\s]', ' ', text)\n",
    "        if param_preprocess['rem_numbers']:\n",
    "            text = re.sub(\"[0-9]+\", '', text)\n",
    "        #if param_preprocess['summary']:   \n",
    "        #text = re.sub(r\"\\s+\", ' ', text)\n",
    "        #text = [word for word in text if word not in stopwords]\n",
    "        Newcorpus[i] = copy(text)\n",
    "\n",
    "    # STEMMING \n",
    "    # from nltk.stem.snowball import SnowballStemmer\n",
    "    # stemmer = SnowballStemmer(language='french')\n",
    "    # def return_stem(text):\n",
    "    #     #doc = nlp(sentence)\n",
    "    #     return [stemmer.stem(word) for word in text]\n",
    "    # if preprossessing['stemming']:\n",
    "    #         text = return_stem(text)\n",
    "\n",
    "    #STEMMING2\n",
    "    # from sklearn.feature_extraction.text import CountVectorizer\n",
    "    # from nltk.stem.snowball import FrenchStemmer\n",
    "    # stemmer = FrenchStemmer()\n",
    "    # analyzer = CountVectorizer().build_analyzer()\n",
    "    # def stemmed_words(doc):\n",
    "    #     return (stemmer.stem(w) for w in analyzer(doc))\n",
    "\n",
    "    # #STEMMING prop ETIENNE --> ça marche que pour l'anglais !?\n",
    "    # from nltk.stem import PorterStemmer\n",
    "    # from nltk.tokenize import word_tokenize\n",
    "    # def stemming(txt):\n",
    "    #     ps = PorterStemmer()\n",
    "    #     compteur = 0\n",
    "    #     for sentence in txt:\n",
    "    #         # print(\"sentence : \",sentence)\n",
    "    #         words = word_tokenize(sentence,language='french')\n",
    "    #         # print(\"words : \",words)\n",
    "    #     sentence_new = ''\n",
    "    #     for word in words:\n",
    "    #         word_new = ps.stem(word)\n",
    "    #         sentence_new += word_new + ' '\n",
    "    #         txt[compteur] = sentence_new\n",
    "    #         compteur += 1\n",
    "\n",
    "    #STOP_WORDS\n",
    "    stops = []  \n",
    "    if param_preprocess['rem_stopwords']:     \n",
    "        stops = stopwords.words('french')\n",
    "    #a faire varier \n",
    "    vectorizer = CountVectorizer(stop_words=stops, ngram_range=param_preprocess['ngram'], analyzer= 'word', max_df=1.0,min_df= 0.0,max_features=25000)      \n",
    "    X = vectorizer.fit_transform(Newcorpus)\n",
    "\n",
    "    #NORMALIZATION / documents\n",
    "    # from sklearn.preprocessing import normalize\n",
    "    # X = normalize(X, norm='l1', axis=1)\n",
    "\n",
    "    '''         sans utiliser countVecteorizer\n",
    "    from collections import Counter\n",
    "    for i,text in enumerate(alltxts):\n",
    "        text = text.split()\n",
    "        text = Counter(text)\n",
    "        alltxts[i] = text\n",
    "    print(alltxts)\n",
    "\n",
    "    X = vectorizer.fit(alltxts)\n",
    "    X = vectorizer.transform(alltxts)\n",
    "\n",
    "    #usingsparsematrix\n",
    "    from scipy.sparse import coo_matrix\n",
    "    ds = coo_matrix(d)\n",
    "    print(ds)\n",
    "    '''\n",
    "    return X,vectorizer"
   ]
  },
  {
   "cell_type": "code",
   "execution_count": 106,
   "metadata": {},
   "outputs": [],
   "source": [
    "# on peut se contenter de faire cela car on veut juste desactiver un à un les preprocess pour voir leur impact individuel. \n",
    "# Mais avec une combinatoire plus complexe il faudrait donner pour chaque paramètre le range à tester et faire un gridsearch\n",
    "preprocessing = {'lower' : True, 'rem_punctuation' : True, 'rem_numbers' : True, 'stemming' : True, 'rem_stopwords' : True, 'ngram' : (1,2)}  # 'summary' : True, 'normalize' : True\n",
    "\n",
    "def generate_Lpreprocess(preprocessing):\n",
    "    Lpreprocess = []\n",
    "    for item in preprocessing:\n",
    "        if type(preprocessing[item]) == bool:\n",
    "            preprocessing[item] = False\n",
    "            Lpreprocess.append(copy(preprocessing))  # + preprocessing a renvoyer dans Xlist\n",
    "            preprocessing[item] = True\n",
    "        if type(preprocessing[item]) != bool:\n",
    "            preprocessing[item] = (1,1)\n",
    "            Lpreprocess.append(copy(preprocessing))\n",
    "            preprocessing[item] = (1,2)\n",
    "    Lpreprocess.append({'lower' : False, 'rem_punctuation' : False, 'rem_numbers' : False, 'stemming' : False, 'rem_stopwords' : False, 'ngram' : (1,1)} )\n",
    "    return Lpreprocess\n",
    "\n",
    "\n",
    "\n"
   ]
  },
  {
   "cell_type": "code",
   "execution_count": 97,
   "metadata": {},
   "outputs": [],
   "source": [
    "#TESTER L'EQUILIBRAGE DES DONNEES\n",
    "def balanced_data(Y):\n",
    "    possibleValues = set(Y)\n",
    "    coeff_norms = []\n",
    "    for value in possibleValues:\n",
    "        #print(value, Y.count(value))\n",
    "        coeff_norms.append(Y.count(value) / len(Y))\n",
    "    return(coeff_norms)\n",
    "\n",
    "#creation du vecteur sample_weight\n",
    "# from copy import copy \n",
    "# Vnormalizer = copy(y_train)\n",
    "# for value in possibleValues:\n",
    "#     Vnormalizer[Vnormalizer == value] = coeff_norms[value]\n"
   ]
  },
  {
   "attachments": {},
   "cell_type": "markdown",
   "metadata": {},
   "source": [
    "On cherche ici à etudier les différents prétraitements et non pas à étudier les modèles en eux-mêmes. On se contente donc de réaliser la chaine de traitement avec un modèle bayesien naïf."
   ]
  },
  {
   "cell_type": "code",
   "execution_count": 177,
   "metadata": {},
   "outputs": [],
   "source": [
    "#ENTRAINEMENT D'UN MODELE\n",
    "from sklearn.naive_bayes import MultinomialNB\n",
    "from sklearn.linear_model import LogisticRegression\n",
    "from sklearn.svm import LinearSVC\n",
    "from sklearn.metrics import accuracy_score, balanced_accuracy_score, f1_score\n",
    "from sklearn.model_selection import train_test_split\n",
    "\n",
    "\n",
    "\n",
    "\n",
    "def model(X,Y,modele):\n",
    "    #SEPARATION DU JEU DE DONNEES\n",
    "    X_train, X_test, y_train, y_test = train_test_split(X, Y, test_size=0.33, random_state=76)\n",
    "    #Naïve Bayes\n",
    "    clf = modele\n",
    "\n",
    "    clf.fit(X_train, y_train,)  #ON PEUT SE SERVIR DE sample_weight pour normaliser l'importance de chaque classe dans un unbalanced dataset ??\n",
    "    yhat = clf.predict(X_test,)\n",
    "    acc = accuracy_score(y_true = y_test , y_pred = yhat)\n",
    "    bal_acc = balanced_accuracy_score(y_true = y_test , y_pred = yhat)\n",
    "    f1 = f1_score(y_true = y_test , y_pred = yhat)\n",
    "    return acc, bal_acc, f1\n",
    "\n",
    "\n",
    "# print(f\"Naïve Bayes accuracy: {acc_score}\")\n",
    "# print(f\"Naïve Bayes balanced accuracy: {bal_acc_score}\")\n",
    "# print(f\"Naïve Bayes f1_score: {f1_score}\")\n",
    "# print(f\"Logistic Regression accuracy: {accuracy_score(y_true = y_test , y_pred = yhat_LR)}\")\n",
    "# print(f\"SVM accuracy: {accuracy_score(y_true = y_test , y_pred = yhat_SVM)}\")\n"
   ]
  },
  {
   "cell_type": "code",
   "execution_count": 180,
   "metadata": {},
   "outputs": [],
   "source": [
    "def choose_model(model):\n",
    "    if model == 'nb':\n",
    "        return MultinomialNB()\n",
    "    if model == 'lr':\n",
    "        return LogisticRegression(random_state=0, solver='lbfgs',n_jobs=-1)\n",
    "    if model == 'svm':\n",
    "        return LinearSVC(random_state=0, tol=1e-5)"
   ]
  },
  {
   "cell_type": "code",
   "execution_count": 206,
   "metadata": {},
   "outputs": [],
   "source": [
    "# CALCUL DES SCORES POUR CHAQUE PRETRAITEMENT\n",
    "\n",
    "alltxts, alllabs = load_data(\"movies\")\n",
    "Lpreprocess = generate_Lpreprocess(preprocessing)\n",
    "Lacc, Lbal_acc, Lf1 = [], [], []\n",
    "modele = choose_model('nb')\n",
    "for preprocess in Lpreprocess:\n",
    "    X, vectorizer = make_preprocess(alltxts,preprocess)\n",
    "    # print(X.shape)\n",
    "    acc, bal_acc, f1 = model(X,alllabs,modele)\n",
    "    Lacc.append(acc)\n",
    "    Lbal_acc.append(bal_acc)\n",
    "    Lf1.append(f1)\n",
    "\n",
    "\n"
   ]
  },
  {
   "cell_type": "code",
   "execution_count": 207,
   "metadata": {},
   "outputs": [
    {
     "data": {
      "image/png": "[encoded data removed]",
      "text/plain": [
       "<Figure size 720x360 with 3 Axes>"
      ]
     },
     "metadata": {
      "needs_background": "light"
     },
     "output_type": "display_data"
    }
   ],
   "source": [
    "#AFFICHAGE DES SCORES SUR 3 GRAPHIQUES DIFFERENTS\n",
    "fig, (ax1, ax2, ax3) = plt.subplots(1, 3, figsize=(10,5))\n",
    "#ajouter un titre \n",
    "fig.suptitle('Scores du modèle Naive Bayes (classer les avis) en fonction du prétraitement')\n",
    "ax1.plot(Lacc, label='accuracy',)\n",
    "ax2.plot(Lbal_acc, label='balanced accuracy', color='orange')\n",
    "ax3.plot(Lf1, label='f1_score', color='green')\n",
    "ax1.legend(loc = 'lower left')\n",
    "ax2.legend(loc = 'lower left')\n",
    "ax3.legend(loc = 'lower left')\n",
    "plt.show()"
   ]
  },
  {
   "cell_type": "code",
   "execution_count": 208,
   "metadata": {},
   "outputs": [
    {
     "name": "stdout",
     "output_type": "stream",
     "text": [
      "0.8257575757575758\n",
      "0.8253721998692581\n",
      "0.834054834054834\n"
     ]
    }
   ],
   "source": [
    "# on applique le posttraitement qui donne les meilleurs résultats (en particilier pour f1_score) cad  tout le pretraitement\n",
    "#pour movies\n",
    "alltxts, alllabs = load_data(\"movies\")\n",
    "Lpreprocess = generate_Lpreprocess(preprocessing)\n",
    "modele = choose_model('nb')\n",
    "X, vectorizer = make_preprocess(alltxts,Lpreprocess[0])\n",
    "acc, bal_acc, f1 = model(X,alllabs,modele)\n",
    "\n",
    "print(acc)\n",
    "print(bal_acc)\n",
    "print(f1)\n",
    "\n",
    "s = {'accuracy' : acc, 'balanced accuracy' : bal_acc, 'f1_score' : f1}\n",
    "with open('resultatNB_movies.txt', 'w') as f:\n",
    "    f.write(str(s))"
   ]
  },
  {
   "cell_type": "code",
   "execution_count": 205,
   "metadata": {},
   "outputs": [
    {
     "name": "stdout",
     "output_type": "stream",
     "text": [
      "0.888689502295878\n",
      "0.7266957259752465\n",
      "0.9365847791442403\n"
     ]
    }
   ],
   "source": [
    "# on applique le posttraitement qui donne les meilleurs résultats (en particilier pour f1_score) cad  pas de pretraitement\n",
    "# #pour speeches\n",
    "alltxts, alllabs = load_data(\"speeches\")\n",
    "Lpreprocess = generate_Lpreprocess(preprocessing)\n",
    "modele = choose_model('nb')\n",
    "X, vectorizer = make_preprocess(alltxts,Lpreprocess[6])\n",
    "acc, bal_acc, f1 = model(X,alllabs,modele)\n",
    "\n",
    "print(acc)\n",
    "print(bal_acc)\n",
    "print(f1)\n",
    "\n",
    "s = {'accuracy' : acc, 'balanced accuracy' : bal_acc, 'f1_score' : f1}\n",
    "with open('resultatNB_speeches.txt', 'w') as f:\n",
    "    f.write(str(s))"
   ]
  },
  {
   "cell_type": "markdown",
   "metadata": {},
   "source": [
    "# Extraction du vocabulaire\n",
    "\n",
    "Exploration préliminaire des jeux de données.\n",
    "\n",
    "- Quelle est la taille d'origine du vocabulaire?\n",
    "- Que reste-t-il si on ne garde que les 100 mots les plus fréquents? [word cloud]\n",
    "- Quels sont les 100 mots dont la fréquence documentaire est la plus grande? [word cloud]\n",
    "- Quels sont les 100 mots les plus discriminants au sens de odds ratio? [word cloud]\n",
    "- Quelle est la distribution d'apparition des mots (Zipf)\n",
    "- Quels sont les 100 bigrammes/trigrammes les plus fréquents?\n"
   ]
  },
  {
   "cell_type": "code",
   "execution_count": 35,
   "metadata": {},
   "outputs": [
    {
     "name": "stdout",
     "output_type": "stream",
     "text": [
      "9862\n"
     ]
    },
    {
     "name": "stderr",
     "output_type": "stream",
     "text": [
      "/home/hippo/anaconda3/lib/python3.9/site-packages/sklearn/utils/deprecation.py:87: FutureWarning: Function get_feature_names is deprecated; get_feature_names is deprecated in 1.0 and will be removed in 1.2. Please use get_feature_names_out instead.\n",
      "  warnings.warn(msg, category=FutureWarning)\n"
     ]
    }
   ],
   "source": [
    "#comparaison du jeu de donnée original et après le traitement\n",
    "\n",
    "print(len(vectorizer.get_feature_names()))\n",
    "\n"
   ]
  },
  {
   "cell_type": "markdown",
   "metadata": {},
   "source": [
    "# Modèles de Machine Learning\n",
    "\n",
    "Avant de lancer de grandes expériences, il faut se construire une base de travail solide en étudiant les questions suivantes:\n",
    "\n",
    "- Combien de temps ça prend d'apprendre un classifieur NB/SVM/RegLog sur ces données en fonction de la taille du vocabulaire?\n",
    "- La validation croisée est-elle nécessaire? Est ce qu'on obtient les mêmes résultats avec un simple *split*?\n",
    "- La validation croisée est-elle stable? A partir de combien de fold (travailler avec différentes graines aléatoires et faire des statistiques basiques)?"
   ]
  },
  {
   "cell_type": "code",
   "execution_count": null,
   "metadata": {},
   "outputs": [],
   "source": [
    "# comparaison des performances en utilisant une cross validation "
   ]
  },
  {
   "cell_type": "markdown",
   "metadata": {},
   "source": [
    "## Première campagne d'expériences\n",
    "\n",
    "Les techniques sur lesquelles nous travaillons étant sujettes au sur-apprentissage: trouver le paramètre de régularisation dans la documentation et optimiser ce paramètre au sens de la métrique qui vous semble la plus appropriée (cf question précédente)."
   ]
  },
  {
   "cell_type": "code",
   "execution_count": null,
   "metadata": {},
   "outputs": [],
   "source": [
    "#regularisation des modèles \n",
    "\n",
    "sauvegarder fichier texte \n",
    "regarder crossvalidation\n",
    "regarder regularisation "
   ]
  },
  {
   "cell_type": "markdown",
   "metadata": {},
   "source": [
    "## Equilibrage des données\n",
    "\n",
    "Un problème reconnu comme dur dans la communauté est celui de l'équilibrage des classes (*balance* en anglais). Que faire si les données sont à 80, 90 ou 99% dans une des classes?\n",
    "Le problème est dur mais fréquent; les solutions sont multiples mais on peut isoler 3 grandes familles de solution.\n",
    "\n",
    "1. Ré-équilibrer le jeu de données: supprimer des données dans la classe majoritaire et/ou sur-échantilloner la classe minoritaire.<BR>\n",
    "   $\\Rightarrow$ A vous de jouer pour cette technique\n",
    "1. Changer la formulation de la fonction de coût pour pénaliser plus les erreurs dans la classe minoritaire:\n",
    "soit une fonction $\\Delta$ mesurant les écarts entre $f(x_i)$ et $y_i$ \n",
    "$$C = \\sum_i  \\alpha_i \\Delta(f(x_i),y_i), \\qquad \\alpha_i = \\left\\{\n",
    "\\begin{array}{ll}\n",
    "1 & \\text{si } y_i \\in \\text{classe majoritaire}\\\\\n",
    "B>1 & \\text{si } y_i \\in \\text{classe minoritaire}\\\\\n",
    "\\end{array} \\right.$$\n",
    "<BR>\n",
    "\n",
    "$\\Rightarrow$ Les SVM et d'autres approches sklearn possèdent des arguments pour régler $B$ ou $1/B$... Ces arguments sont utiles mais pas toujours suffisant.\n",
    "\n",
    "3. Courbe ROC et modification du biais. Une fois la fonction $\\hat y = f(x)$ apprise, il est possible de la *bidouiller* a posteriori: si toutes les prédictions $\\hat y$ sont dans une classe, on va introduire $b$ dans $\\hat y = f(x) + b$ et le faire varier jusqu'à ce qu'un des points change de classe. On peut ensuite aller de plus en plus loin.\n",
    "Le calcul de l'ensemble des scores associés à cette approche mène directement à la courbe ROC.\n",
    "\n",
    "**Note:** certains classifieurs sont intrinsèquement plus résistante au problème d'équilibrage, c'est par exemple le cas des techniques de gradient boosting que vous verrez l'an prochain."
   ]
  },
  {
   "cell_type": "code",
   "execution_count": null,
   "metadata": {},
   "outputs": [],
   "source": []
  }
 ],
 "metadata": {
  "kernelspec": {
   "display_name": "Python 3.9.12 ('base')",
   "language": "python",
   "name": "python3"
  },
  "language_info": {
   "codemirror_mode": {
    "name": "ipython",
    "version": 3
   },
   "file_extension": ".py",
   "mimetype": "text/x-python",
   "name": "python",
   "nbconvert_exporter": "python",
   "pygments_lexer": "ipython3",
   "version": "3.9.12 (main, Apr  5 2022, 06:56:58) \n[GCC 7.5.0]"
  },
  "vscode": {
   "interpreter": {
    "hash": "baacd7ded0742aa8408bda3ed6ced71320ba4869ece4e05e453d0cf31ed1376f"
   }
  }
 },
 "nbformat": 4,
 "nbformat_minor": 2
}
