{
 "cells": [
  {
   "cell_type": "markdown",
   "metadata": {},
   "source": [
    "# Classification de documents : prise en main des outils\n",
    "\n",
    "Le but de ce TP est de classer des documents textuels... Dans un premier temps, nous allons vérifier le bon fonctionnement des outils sur des données jouets puis appliquer les concepts sur des données réelles.\n",
    "\n",
    "\n",
    "## Conception de la chaine de traitement\n",
    "Pour rappel, une chaine de traitement de documents classique est composée des étapes suivantes:\n",
    "1. Lecture des données et importation\n",
    "    - Dans le cadre de nos TP, nous faisons l'hypothèse que le corpus tient en mémoire... Si ce n'est pas le cas, il faut alors ajouter des structures de données avec des buffers (*data-reader*), bien plus complexes à mettre en place.\n",
    "    - Le plus grand piège concerne l'encodage des données. Dans le TP... Pas (ou peu) de problème. Dans la vraie vie: il faut faire attention à toujours maitriser les formats d'entrée et de sortie.\n",
    "1. Traitement des données brutes paramétrique. Chaque traitement doit être activable ou desactivable + paramétrable si besoin.\n",
    "    - Enlever les informations *inutiles* : chiffre, ponctuations, majuscules, etc... <BR>\n",
    "    **L'utilité dépend de l'application!**\n",
    "    - Segmenter en mots (=*Tokenization*)\n",
    "    - Elimination des stop-words\n",
    "    - Stemming/lemmatisation (racinisation)\n",
    "    - Byte-pair encoding pour trouver les mots composés (e.g. Sorbonne Université, Ville de Paris, Premier Ministre, etc...)\n",
    "1. Traitement des données numériques\n",
    "    - Normalisation *term-frequency* / binarisation\n",
    "    - Normalisation *inverse document frequency*\n",
    "    - Elimination des mots rares, des mots trop fréquents\n",
    "    - Construction de critère de séparabilité pour éliminer des mots etc...\n",
    "1. Apprentissage d'un classifieur\n",
    "    - Choix du type de classifieur\n",
    "    - Réglage des paramètres du classifieur (régularisation, etc...)\n",
    "\n",
    "## Exploitation de la chaine de traitement\n",
    "\n",
    "On appelle cette étape la réalisation d'une campagne d'expériences: c'est le point clé que nous voulons traviller en TAL cette année.\n",
    "1. Il est impossible de tester toutes les combinaisons par rapport aux propositions ci-dessus... Il faut donc en éliminer un certain nombre.\n",
    "    - En discutant avec les experts métiers\n",
    "    - En faisant des tests préliminaires\n",
    "1. Après ce premier filtrage, il faut:\n",
    "    - Choisir une évaluation fiable et pas trop lente (validation croisée, leave-one-out, split apprentissage/test simple)\n",
    "    - Lancer des expériences en grand\n",
    "        - = *grid-search*\n",
    "        - parallèliser sur plusieurs machines\n",
    "        - savoir lancer sur un serveur et se déconnecter\n",
    "1. Collecter et analyser les résultats\n",
    "\n",
    "\n",
    "## Inférence\n",
    "\n",
    "L'inférence est ensuite très classique: la chaine de traitement optimale est apte à traiter de nouveaux documents\n",
    "\n",
    "# Etape 1: charger les données"
   ]
  },
  {
   "cell_type": "code",
   "execution_count": 71,
   "metadata": {},
   "outputs": [],
   "source": [
    "import numpy as np\n",
    "import matplotlib.pyplot as plt\n",
    "\n",
    "import codecs\n",
    "import re\n",
    "import os.path"
   ]
  },
  {
   "cell_type": "code",
   "execution_count": 72,
   "metadata": {},
   "outputs": [],
   "source": [
    "# Chargement des données:\n",
    "def load_pres(fname):\n",
    "    alltxts = []\n",
    "    alllabs = []\n",
    "    s=codecs.open(fname, 'r','utf-8') # pour régler le codage\n",
    "    while True:\n",
    "        txt = s.readline()\n",
    "        if(len(txt))<5:\n",
    "            break\n",
    "        #\n",
    "        lab = re.sub(r\"<[0-9]*:[0-9]*:(.)>.*\",\"\\\\1\",txt)\n",
    "        txt = re.sub(r\"<[0-9]*:[0-9]*:.>(.*)\",\"\\\\1\",txt)\n",
    "        if lab.count('M') >0:\n",
    "            alllabs.append(-1)\n",
    "        else: \n",
    "            alllabs.append(1)\n",
    "        alltxts.append(txt)\n",
    "    return alltxts,alllabs\n",
    "\n",
    "\n",
    "def load_movies(path2data): # 1 classe par répertoire\n",
    "    alltxts = [] # init vide\n",
    "    labs = []\n",
    "    cpt = 0\n",
    "    for cl in os.listdir(path2data): # parcours des fichiers d'un répertoire\n",
    "        for f in os.listdir(path2data+cl):\n",
    "            txt = open(path2data+cl+'/'+f).read()\n",
    "            alltxts.append(txt)\n",
    "            labs.append(cpt)\n",
    "        cpt+=1 # chg répertoire = cht classe\n",
    "        \n",
    "    return alltxts,labs"
   ]
  },
  {
   "cell_type": "code",
   "execution_count": 73,
   "metadata": {},
   "outputs": [
    {
     "name": "stdout",
     "output_type": "stream",
     "text": [
      "57413 57413\n",
      " Quand je dis chers amis, il ne s'agit pas là d'une formule diplomatique, mais de l'expression de ce que je ressens.\n",
      "\n",
      "1\n"
     ]
    }
   ],
   "source": [
    "data = \"speeches\"\n",
    "#data = \"movies\"\n",
    "\n",
    "if data == \"speeches\":\n",
    "    fname = \"./ressources/AFDpresidentutf8/corpus.tache1.learn.utf8\"\n",
    "    alltxts,alllabs = load_pres(fname)\n",
    "    print(len(alltxts),len(alllabs))\n",
    "    print(alltxts[0])\n",
    "    print(alllabs[0])\n",
    "\n",
    "if data == \"movies\":\n",
    "    path = \"./ressources/movies/movies1000/\"\n",
    "    alltxts,alllabs = load_movies(path)\n",
    "    print(len(alltxts),len(alllabs))\n",
    "    print(alltxts[-1])\n",
    "    print(alllabs[-1])"
   ]
  },
  {
   "cell_type": "markdown",
   "metadata": {},
   "source": [
    "# Transformation paramétrique du texte\n",
    "\n",
    "Vous devez tester, par exemple, les cas suivants:\n",
    "- transformation en minuscule ou pas\n",
    "- suppression de la ponctuation\n",
    "- transformation des mots entièrement en majuscule en marqueurs spécifiques\n",
    "- suppression des chiffres ou pas\n",
    "- conservation d'une partie du texte seulement (seulement la première ligne = titre, seulement la dernière ligne = résumé, ...)\n",
    "- stemming\n",
    "- ...\n",
    "\n",
    "\n",
    "Vérifier systématiquement sur un exemple ou deux le bon fonctionnement des méthodes sur deux documents (au moins un de chaque classe)."
   ]
  },
  {
   "cell_type": "code",
   "execution_count": 74,
   "metadata": {},
   "outputs": [],
   "source": [
    "#alltxts = ['Je teste,??§! mes 4 fonctions ', 'boulou boulou CCC 458 ejf ']\n",
    "\n",
    "import re\n",
    "import unicodedata\n",
    "import re\n",
    "\n",
    "preprossessing = {'lower' : True, 'rem_punctuation' : True, 'rem_numbers' : True, 'stemming' : True, 'rem_stopwords' : True, 'summary' : True, 'normalize' : True}\n",
    "\n",
    "for i,text in enumerate(alltxts):\n",
    "    text = unicodedata.normalize('NFD', text).encode('ascii', 'ignore').decode(\"utf-8\")\n",
    "    if preprossessing['lower']:\n",
    "        text = text.lower()\n",
    "    if preprossessing['rem_punctuation']:\n",
    "        text = re.sub(r'[^\\w\\s]', '', text)\n",
    "    if preprossessing['rem_numbers']:\n",
    "        text = re.sub(\"[0-9]+\", '', text)\n",
    "    if preprossessing['summary']:\n",
    "        pass\n",
    "    #text = re.sub(r\"\\s+\", ' ', text)\n",
    "    #text = [word for word in text if word not in stopwords]\n",
    "    alltxts[i] = text\n",
    "\n",
    "#print(alltxts)  \n",
    "\n",
    "# you can add some special token into the document (thus add token into the dictionary)\n"
   ]
  },
  {
   "cell_type": "code",
   "execution_count": 75,
   "metadata": {},
   "outputs": [
    {
     "name": "stderr",
     "output_type": "stream",
     "text": [
      "[nltk_data] Downloading package stopwords to /home/hippo/nltk_data...\n",
      "[nltk_data]   Package stopwords is already up-to-date!\n"
     ]
    },
    {
     "data": {
      "text/plain": [
       "'         sans utiliser countVecteorizer\\nfrom collections import Counter\\nfor i,text in enumerate(alltxts):\\n    text = text.split()\\n    text = Counter(text)\\n    alltxts[i] = text\\nprint(alltxts)\\n\\nX = vectorizer.fit(alltxts)\\nX = vectorizer.transform(alltxts)\\n\\n#usingsparsematrix\\nfrom scipy.sparse import coo_matrix\\nds = coo_matrix(d)\\nprint(ds)\\n'"
      ]
     },
     "execution_count": 75,
     "metadata": {},
     "output_type": "execute_result"
    }
   ],
   "source": [
    "\n",
    "# STEMMING \n",
    "# from nltk.stem.snowball import SnowballStemmer\n",
    "# stemmer = SnowballStemmer(language='french')\n",
    "# def return_stem(text):\n",
    "#     #doc = nlp(sentence)\n",
    "#     return [stemmer.stem(word) for word in text]\n",
    "# if preprossessing['stemming']:\n",
    "#         text = return_stem(text)\n",
    "\n",
    "#STEMMING2\n",
    "# from sklearn.feature_extraction.text import CountVectorizer\n",
    "# from nltk.stem.snowball import FrenchStemmer\n",
    "# stemmer = FrenchStemmer()\n",
    "# analyzer = CountVectorizer().build_analyzer()\n",
    "# def stemmed_words(doc):\n",
    "#     return (stemmer.stem(w) for w in analyzer(doc))\n",
    "\n",
    "\n",
    "#STOP_WORDS       \n",
    "import nltk\n",
    "nltk.download('stopwords')\n",
    "from nltk.corpus import stopwords\n",
    "stops = stopwords.words('french')\n",
    "#stops = set(stopwords.words('french'))\n",
    "\n",
    "\n",
    "\n",
    "from sklearn.feature_extraction.text import CountVectorizer\n",
    "\n",
    "#a faire varier\n",
    "vectorizer = CountVectorizer(stop_words=stops, ngram_range=(1,2), analyzer= 'word', max_df=1.0,min_df= 0.0001,max_features=25000)      \n",
    "X = vectorizer.fit_transform(alltxts)\n",
    "\n",
    "\n",
    "#NORMALIZATION / documents\n",
    "# from sklearn.preprocessing import normalize\n",
    "# X = normalize(X, norm='l1', axis=1)\n",
    "\n",
    "\n",
    "\n",
    "'''         sans utiliser countVecteorizer\n",
    "from collections import Counter\n",
    "for i,text in enumerate(alltxts):\n",
    "    text = text.split()\n",
    "    text = Counter(text)\n",
    "    alltxts[i] = text\n",
    "print(alltxts)\n",
    "\n",
    "X = vectorizer.fit(alltxts)\n",
    "X = vectorizer.transform(alltxts)\n",
    "\n",
    "#usingsparsematrix\n",
    "from scipy.sparse import coo_matrix\n",
    "ds = coo_matrix(d)\n",
    "print(ds)\n",
    "'''"
   ]
  },
  {
   "cell_type": "code",
   "execution_count": 77,
   "metadata": {},
   "outputs": [
    {
     "name": "stdout",
     "output_type": "stream",
     "text": [
      "1 33437\n",
      "-1 5029\n",
      "[0.8692611657047783, 0.13073883429522176]\n"
     ]
    }
   ],
   "source": [
    "from sklearn.model_selection import train_test_split\n",
    "X_train, X_test, y_train, y_test = train_test_split(X, alllabs, test_size=0.33, random_state=76)\n",
    "# print(X_train[1], '\\n',y_train[1])\n",
    "# print(len(y_train))\n",
    "\n",
    "#TESTER L'EQUILIBRAGE DES DONNEES\n",
    "possibleValues = set(y_train)\n",
    "coeff_norms = []\n",
    "for value in possibleValues:\n",
    "    print(value, y_train.count(value))\n",
    "    coeff_norm = y_train.count(value) / len(y_train)\n",
    "    coeff_norms.append(coeff_norm)\n",
    " \n",
    "print(coeff_norms)\n",
    "\n",
    "\n"
   ]
  },
  {
   "cell_type": "code",
   "execution_count": 79,
   "metadata": {},
   "outputs": [
    {
     "name": "stdout",
     "output_type": "stream",
     "text": [
      "Naïve Bayes accuracy: 0.8861561197023275\n",
      "Naïve Bayes accuracy: 0.7721822960408573\n"
     ]
    }
   ],
   "source": [
    "\n",
    "from sklearn.naive_bayes import MultinomialNB\n",
    "from sklearn.linear_model import LogisticRegression\n",
    "from sklearn.svm import LinearSVC\n",
    "from sklearn.metrics import accuracy_score, balanced_accuracy_score\n",
    "\n",
    "#creation du vecteur sample_weight\n",
    "# from copy import copy \n",
    "# Vnormalizer = copy(y_train)\n",
    "# for value in possibleValues:\n",
    "#     Vnormalizer[Vnormalizer == value] = coeff_norms[value]\n",
    "\n",
    "#Naïve Bayes\n",
    "nb_clf = MultinomialNB()\n",
    "nb_clf.fit(X_train, y_train,)  #ON PEUT SE SERVIR DE sample_weight pour normaliser l'importance de chaque classe dans un unbalanced dataset ?? \n",
    "\n",
    "#Logistic Regression\n",
    "# lr_clf = LogisticRegression(random_state=0, solver='lbfgs',n_jobs=-1)\n",
    "# lr_clf.fit(X_train, y_train)\n",
    "\n",
    "#Linear SVM\n",
    "# svm_clf = LinearSVC(random_state=0, tol=1e-5)\n",
    "# svm_clf.fit(X_train, y_train)\n",
    "\n",
    "\n",
    "yhat_NB = nb_clf.predict(X_test)\n",
    "# yhat_LR = lr_clf.predict(X_test)\n",
    "# yhat_SVM = svm_clf.predict(X_test)\n",
    "\n",
    "\n",
    "print(f\"Naïve Bayes accuracy: {accuracy_score(y_true = y_test , y_pred = yhat_NB)}\")\n",
    "print(f\"Naïve Bayes accuracy: {balanced_accuracy_score(y_true = y_test , y_pred = yhat_NB)}\")\n",
    "# print(f\"Logistic Regression accuracy: {accuracy_score(y_true = y_test , y_pred = yhat_LR)}\")\n",
    "#print(f\"SVM accuracy: {accuracy_score(y_true = y_test , y_pred = yhat_SVM)}\")"
   ]
  },
  {
   "cell_type": "markdown",
   "metadata": {},
   "source": [
    "# Extraction du vocabulaire\n",
    "\n",
    "Exploration préliminaire des jeux de données.\n",
    "\n",
    "- Quelle est la taille d'origine du vocabulaire?\n",
    "- Que reste-t-il si on ne garde que les 100 mots les plus fréquents? [word cloud]\n",
    "- Quels sont les 100 mots dont la fréquence documentaire est la plus grande? [word cloud]\n",
    "- Quels sont les 100 mots les plus discriminants au sens de odds ratio? [word cloud]\n",
    "- Quelle est la distribution d'apparition des mots (Zipf)\n",
    "- Quels sont les 100 bigrammes/trigrammes les plus fréquents?\n"
   ]
  },
  {
   "cell_type": "code",
   "execution_count": null,
   "metadata": {},
   "outputs": [],
   "source": []
  },
  {
   "cell_type": "markdown",
   "metadata": {},
   "source": [
    "Question qui devient de plus en plus intéressante avec les approches modernes:\n",
    "est-il possible d'extraire des tri-grammes de lettres pour représenter nos documents?\n",
    "\n",
    "Quelle performances attendrent? Quels sont les avantages et les inconvénients d'une telle approche?"
   ]
  },
  {
   "cell_type": "code",
   "execution_count": null,
   "metadata": {},
   "outputs": [],
   "source": []
  },
  {
   "cell_type": "markdown",
   "metadata": {},
   "source": [
    "# Modèles de Machine Learning\n",
    "\n",
    "Avant de lancer de grandes expériences, il faut se construire une base de travail solide en étudiant les questions suivantes:\n",
    "\n",
    "- Combien de temps ça prend d'apprendre un classifieur NB/SVM/RegLog sur ces données en fonction de la taille du vocabulaire?\n",
    "- La validation croisée est-elle nécessaire? Est ce qu'on obtient les mêmes résultats avec un simple *split*?\n",
    "- La validation croisée est-elle stable? A partir de combien de fold (travailler avec différentes graines aléatoires et faire des statistiques basiques)?"
   ]
  },
  {
   "cell_type": "code",
   "execution_count": null,
   "metadata": {},
   "outputs": [],
   "source": []
  },
  {
   "cell_type": "markdown",
   "metadata": {},
   "source": [
    "## Première campagne d'expériences\n",
    "\n",
    "Les techniques sur lesquelles nous travaillons étant sujettes au sur-apprentissage: trouver le paramètre de régularisation dans la documentation et optimiser ce paramètre au sens de la métrique qui vous semble la plus appropriée (cf question précédente)."
   ]
  },
  {
   "cell_type": "code",
   "execution_count": null,
   "metadata": {},
   "outputs": [],
   "source": []
  },
  {
   "cell_type": "markdown",
   "metadata": {},
   "source": [
    "## Equilibrage des données\n",
    "\n",
    "Un problème reconnu comme dur dans la communauté est celui de l'équilibrage des classes (*balance* en anglais). Que faire si les données sont à 80, 90 ou 99% dans une des classes?\n",
    "Le problème est dur mais fréquent; les solutions sont multiples mais on peut isoler 3 grandes familles de solution.\n",
    "\n",
    "1. Ré-équilibrer le jeu de données: supprimer des données dans la classe majoritaire et/ou sur-échantilloner la classe minoritaire.<BR>\n",
    "   $\\Rightarrow$ A vous de jouer pour cette technique\n",
    "1. Changer la formulation de la fonction de coût pour pénaliser plus les erreurs dans la classe minoritaire:\n",
    "soit une fonction $\\Delta$ mesurant les écarts entre $f(x_i)$ et $y_i$ \n",
    "$$C = \\sum_i  \\alpha_i \\Delta(f(x_i),y_i), \\qquad \\alpha_i = \\left\\{\n",
    "\\begin{array}{ll}\n",
    "1 & \\text{si } y_i \\in \\text{classe majoritaire}\\\\\n",
    "B>1 & \\text{si } y_i \\in \\text{classe minoritaire}\\\\\n",
    "\\end{array} \\right.$$\n",
    "<BR>\n",
    "\n",
    "$\\Rightarrow$ Les SVM et d'autres approches sklearn possèdent des arguments pour régler $B$ ou $1/B$... Ces arguments sont utiles mais pas toujours suffisant.\n",
    "\n",
    "3. Courbe ROC et modification du biais. Une fois la fonction $\\hat y = f(x)$ apprise, il est possible de la *bidouiller* a posteriori: si toutes les prédictions $\\hat y$ sont dans une classe, on va introduire $b$ dans $\\hat y = f(x) + b$ et le faire varier jusqu'à ce qu'un des points change de classe. On peut ensuite aller de plus en plus loin.\n",
    "Le calcul de l'ensemble des scores associés à cette approche mène directement à la courbe ROC.\n",
    "\n",
    "**Note:** certains classifieurs sont intrinsèquement plus résistante au problème d'équilibrage, c'est par exemple le cas des techniques de gradient boosting que vous verrez l'an prochain."
   ]
  },
  {
   "cell_type": "code",
   "execution_count": null,
   "metadata": {},
   "outputs": [],
   "source": []
  }
 ],
 "metadata": {
  "kernelspec": {
   "display_name": "Python 3.9.12 ('base')",
   "language": "python",
   "name": "python3"
  },
  "language_info": {
   "codemirror_mode": {
    "name": "ipython",
    "version": 3
   },
   "file_extension": ".py",
   "mimetype": "text/x-python",
   "name": "python",
   "nbconvert_exporter": "python",
   "pygments_lexer": "ipython3",
   "version": "3.9.12"
  },
  "vscode": {
   "interpreter": {
    "hash": "baacd7ded0742aa8408bda3ed6ced71320ba4869ece4e05e453d0cf31ed1376f"
   }
  }
 },
 "nbformat": 4,
 "nbformat_minor": 2
}
